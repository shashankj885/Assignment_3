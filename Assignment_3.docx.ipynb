{
 "cells": [
  {
   "cell_type": "markdown",
   "id": "13cef419",
   "metadata": {},
   "source": [
    "Ans 1) - a) With the help of functions, we can avoid rewriting the same logic or code again and again in a program. \n",
    "b) In a single Program, we can call Python functions anywhere and also call multiple times. \n",
    "c) We can track a large Python program easily when it is divided into multiple functions.\n",
    "d)it is possible to reduce the size of a program by calling and using the function at different places in the program.\n"
   ]
  },
  {
   "cell_type": "markdown",
   "id": "e82051d4",
   "metadata": {},
   "source": [
    "Ans2) Fuction runs, When it is called."
   ]
  },
  {
   "cell_type": "markdown",
   "id": "6f57eff0",
   "metadata": {},
   "source": [
    "Ans3) Define a function with the def keyword, then write the function identifier (name) followed by parentheses and a colon. "
   ]
  },
  {
   "cell_type": "markdown",
   "id": "4562e408",
   "metadata": {},
   "source": [
    "Ans4)A function is a block of code that does a particular operation and returns a result. It usually accepts inputs as parameters and returns a result. The parameters are not mandatory. A function call is the code used to pass control to a function."
   ]
  },
  {
   "cell_type": "markdown",
   "id": "6af4aaef",
   "metadata": {},
   "source": [
    "Ans5) There's only one global Python scope per program execution whereas At any given time during execution, you'll have at most four active Python scopes—local, enclosing, global, and built-in—depending on where you are in the code. On the other hand, you'll always have at least two active scopes, which are the global and built-in scopes"
   ]
  },
  {
   "cell_type": "markdown",
   "id": "52c85758",
   "metadata": {},
   "source": [
    "Ans6)When the execution of the function terminates (returns), the local variables are destroyed\n"
   ]
  },
  {
   "cell_type": "markdown",
   "id": "f1e6eb19",
   "metadata": {},
   "source": [
    "Ans7)A return is a value that a function returns to the calling script or function when it completes its task. A return value can be any one of the four variable types: handle, integer, object, or string. The type of value your function returns depends largely on the task it performs. We can use that value in a math expression or any other kind of expression in which the value has a logical or coherent meaning."
   ]
  },
  {
   "cell_type": "markdown",
   "id": "27599767",
   "metadata": {},
   "source": [
    "Ans8) If the return statement is without any expression, then the special value None is returned"
   ]
  },
  {
   "cell_type": "markdown",
   "id": "9149da48",
   "metadata": {},
   "source": [
    "Ans9)Use of \"global\" keyword to modify global variable inside a function. If your function has a local variable with same name as global variable and you want to modify the global variable inside function then use 'global' keyword before the variable name at start of function"
   ]
  },
  {
   "cell_type": "markdown",
   "id": "799f8388",
   "metadata": {},
   "source": [
    "Ans10)The None keyword is used to define a null value, or no value at all.None is a data type of its own (NoneType) and only None can be None.The data type of None is NoneType."
   ]
  },
  {
   "cell_type": "markdown",
   "id": "702af54c",
   "metadata": {},
   "source": [
    "Ans11)That import statement imports a module named areallyourpetsnamederic."
   ]
  },
  {
   "cell_type": "markdown",
   "id": "9d73ec5d",
   "metadata": {},
   "source": [
    "Ans12) This function can be called with spam.bacon()."
   ]
  },
  {
   "cell_type": "markdown",
   "id": "1124f250",
   "metadata": {},
   "source": [
    "Ans13) Error handling can be used to notify the user of why the error occurred and gracefully exit the process that caused the error."
   ]
  },
  {
   "cell_type": "markdown",
   "id": "cf698e80",
   "metadata": {},
   "source": [
    "Ans14)The try block lets you test a block of code for errors. The except block lets you handle the error. "
   ]
  },
  {
   "cell_type": "code",
   "execution_count": null,
   "id": "ad0c9755",
   "metadata": {},
   "outputs": [],
   "source": []
  }
 ],
 "metadata": {
  "kernelspec": {
   "display_name": "Python 3 (ipykernel)",
   "language": "python",
   "name": "python3"
  },
  "language_info": {
   "codemirror_mode": {
    "name": "ipython",
    "version": 3
   },
   "file_extension": ".py",
   "mimetype": "text/x-python",
   "name": "python",
   "nbconvert_exporter": "python",
   "pygments_lexer": "ipython3",
   "version": "3.9.12"
  }
 },
 "nbformat": 4,
 "nbformat_minor": 5
}
